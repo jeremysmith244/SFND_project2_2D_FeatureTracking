{
 "cells": [
  {
   "cell_type": "code",
   "execution_count": 1,
   "metadata": {},
   "outputs": [],
   "source": [
    "import numpy as np\n",
    "import pandas as pd\n",
    "import matplotlib.pyplot as plt\n",
    "import os"
   ]
  },
  {
   "cell_type": "code",
   "execution_count": 2,
   "metadata": {},
   "outputs": [],
   "source": [
    "files = os.listdir('outputs/')"
   ]
  },
  {
   "cell_type": "code",
   "execution_count": 3,
   "metadata": {},
   "outputs": [
    {
     "name": "stdout",
     "output_type": "stream",
     "text": [
      "akaze_akaze\n"
     ]
    }
   ],
   "source": [
    "test = pd.read_csv('outputs/' + files[0], skiprows=1, header=None)\n",
    "print(files[0])"
   ]
  },
  {
   "cell_type": "code",
   "execution_count": 4,
   "metadata": {},
   "outputs": [
    {
     "data": {
      "text/html": [
       "<div>\n",
       "<style scoped>\n",
       "    .dataframe tbody tr th:only-of-type {\n",
       "        vertical-align: middle;\n",
       "    }\n",
       "\n",
       "    .dataframe tbody tr th {\n",
       "        vertical-align: top;\n",
       "    }\n",
       "\n",
       "    .dataframe thead th {\n",
       "        text-align: right;\n",
       "    }\n",
       "</style>\n",
       "<table border=\"1\" class=\"dataframe\">\n",
       "  <thead>\n",
       "    <tr style=\"text-align: right;\">\n",
       "      <th></th>\n",
       "      <th>0</th>\n",
       "      <th>1</th>\n",
       "      <th>2</th>\n",
       "      <th>3</th>\n",
       "      <th>4</th>\n",
       "    </tr>\n",
       "  </thead>\n",
       "  <tbody>\n",
       "    <tr>\n",
       "      <td>0</td>\n",
       "      <td>49</td>\n",
       "      <td>1.5777</td>\n",
       "      <td>9.7533</td>\n",
       "      <td>6</td>\n",
       "      <td>0.1850</td>\n",
       "    </tr>\n",
       "    <tr>\n",
       "      <td>1</td>\n",
       "      <td>51</td>\n",
       "      <td>2.7164</td>\n",
       "      <td>8.5469</td>\n",
       "      <td>6</td>\n",
       "      <td>0.0256</td>\n",
       "    </tr>\n",
       "    <tr>\n",
       "      <td>2</td>\n",
       "      <td>52</td>\n",
       "      <td>1.7044</td>\n",
       "      <td>6.6445</td>\n",
       "      <td>8</td>\n",
       "      <td>0.0299</td>\n",
       "    </tr>\n",
       "    <tr>\n",
       "      <td>3</td>\n",
       "      <td>46</td>\n",
       "      <td>1.6586</td>\n",
       "      <td>4.6554</td>\n",
       "      <td>8</td>\n",
       "      <td>0.0255</td>\n",
       "    </tr>\n",
       "    <tr>\n",
       "      <td>4</td>\n",
       "      <td>50</td>\n",
       "      <td>2.2988</td>\n",
       "      <td>4.9783</td>\n",
       "      <td>6</td>\n",
       "      <td>0.0281</td>\n",
       "    </tr>\n",
       "  </tbody>\n",
       "</table>\n",
       "</div>"
      ],
      "text/plain": [
       "    0       1       2  3       4\n",
       "0  49  1.5777  9.7533  6  0.1850\n",
       "1  51  2.7164  8.5469  6  0.0256\n",
       "2  52  1.7044  6.6445  8  0.0299\n",
       "3  46  1.6586  4.6554  8  0.0255\n",
       "4  50  2.2988  4.9783  6  0.0281"
      ]
     },
     "execution_count": 4,
     "metadata": {},
     "output_type": "execute_result"
    }
   ],
   "source": [
    "test.dropna(axis=1, inplace=True)\n",
    "test.head()"
   ]
  },
  {
   "cell_type": "code",
   "execution_count": 5,
   "metadata": {},
   "outputs": [
    {
     "data": {
      "text/html": [
       "<div>\n",
       "<style scoped>\n",
       "    .dataframe tbody tr th:only-of-type {\n",
       "        vertical-align: middle;\n",
       "    }\n",
       "\n",
       "    .dataframe tbody tr th {\n",
       "        vertical-align: top;\n",
       "    }\n",
       "\n",
       "    .dataframe thead th {\n",
       "        text-align: right;\n",
       "    }\n",
       "</style>\n",
       "<table border=\"1\" class=\"dataframe\">\n",
       "  <thead>\n",
       "    <tr style=\"text-align: right;\">\n",
       "      <th></th>\n",
       "      <th>keypoints</th>\n",
       "      <th>time_to_detect</th>\n",
       "      <th>time_to_decribe</th>\n",
       "      <th>matches</th>\n",
       "      <th>time_to_match</th>\n",
       "      <th>detector</th>\n",
       "      <th>descriptor</th>\n",
       "    </tr>\n",
       "  </thead>\n",
       "  <tbody>\n",
       "    <tr>\n",
       "      <td>0</td>\n",
       "      <td>49</td>\n",
       "      <td>1.5777</td>\n",
       "      <td>9.7533</td>\n",
       "      <td>6</td>\n",
       "      <td>0.1850</td>\n",
       "      <td>akaze</td>\n",
       "      <td>akaze</td>\n",
       "    </tr>\n",
       "    <tr>\n",
       "      <td>1</td>\n",
       "      <td>51</td>\n",
       "      <td>2.7164</td>\n",
       "      <td>8.5469</td>\n",
       "      <td>6</td>\n",
       "      <td>0.0256</td>\n",
       "      <td>akaze</td>\n",
       "      <td>akaze</td>\n",
       "    </tr>\n",
       "    <tr>\n",
       "      <td>2</td>\n",
       "      <td>52</td>\n",
       "      <td>1.7044</td>\n",
       "      <td>6.6445</td>\n",
       "      <td>8</td>\n",
       "      <td>0.0299</td>\n",
       "      <td>akaze</td>\n",
       "      <td>akaze</td>\n",
       "    </tr>\n",
       "    <tr>\n",
       "      <td>3</td>\n",
       "      <td>46</td>\n",
       "      <td>1.6586</td>\n",
       "      <td>4.6554</td>\n",
       "      <td>8</td>\n",
       "      <td>0.0255</td>\n",
       "      <td>akaze</td>\n",
       "      <td>akaze</td>\n",
       "    </tr>\n",
       "    <tr>\n",
       "      <td>4</td>\n",
       "      <td>50</td>\n",
       "      <td>2.2988</td>\n",
       "      <td>4.9783</td>\n",
       "      <td>6</td>\n",
       "      <td>0.0281</td>\n",
       "      <td>akaze</td>\n",
       "      <td>akaze</td>\n",
       "    </tr>\n",
       "  </tbody>\n",
       "</table>\n",
       "</div>"
      ],
      "text/plain": [
       "   keypoints  time_to_detect  time_to_decribe  matches  time_to_match  \\\n",
       "0         49          1.5777           9.7533        6         0.1850   \n",
       "1         51          2.7164           8.5469        6         0.0256   \n",
       "2         52          1.7044           6.6445        8         0.0299   \n",
       "3         46          1.6586           4.6554        8         0.0255   \n",
       "4         50          2.2988           4.9783        6         0.0281   \n",
       "\n",
       "  detector descriptor  \n",
       "0    akaze      akaze  \n",
       "1    akaze      akaze  \n",
       "2    akaze      akaze  \n",
       "3    akaze      akaze  \n",
       "4    akaze      akaze  "
      ]
     },
     "execution_count": 5,
     "metadata": {},
     "output_type": "execute_result"
    }
   ],
   "source": [
    "columns = ['keypoints', 'time_to_detect', 'time_to_decribe', 'matches', 'time_to_match']\n",
    "test.columns = columns\n",
    "test['detector'] = 'akaze'\n",
    "test['descriptor'] = 'akaze'\n",
    "test.head()"
   ]
  },
  {
   "cell_type": "code",
   "execution_count": 6,
   "metadata": {},
   "outputs": [],
   "source": [
    "def load_summary(path):\n",
    "    \n",
    "    df = pd.read_csv('outputs/' + path, skiprows=1, header=None)\n",
    "    df.dropna(axis=1, inplace=True)\n",
    "    columns = ['keypoints', 'time_to_detect', 'time_to_decribe', 'matches', 'time_to_match']\n",
    "    df.columns = columns\n",
    "    summary = list(df.mean().values)\n",
    "    summary.append(path.split('_')[0])\n",
    "    summary.append(path.split('_')[1])\n",
    "        \n",
    "    return summary"
   ]
  },
  {
   "cell_type": "code",
   "execution_count": 7,
   "metadata": {},
   "outputs": [
    {
     "name": "stdout",
     "output_type": "stream",
     "text": [
      "akaze_brief loaded!\n",
      "akaze_brisk loaded!\n",
      "akaze_freak loaded!\n",
      "akaze_orb loaded!\n",
      "akaze_sift loaded!\n",
      "brisk_brief loaded!\n",
      "brisk_brisk loaded!\n",
      "brisk_freak loaded!\n",
      "brisk_orb loaded!\n",
      "brisk_sift loaded!\n",
      "fast_brief loaded!\n",
      "fast_brisk loaded!\n",
      "fast_freak loaded!\n",
      "fast_orb loaded!\n",
      "fast_sift loaded!\n",
      "harris_brief loaded!\n",
      "harris_brisk loaded!\n",
      "harris_freak loaded!\n",
      "harris_orb loaded!\n",
      "harris_sift loaded!\n",
      "orb_brief loaded!\n",
      "orb_brisk loaded!\n",
      "orb_freak loaded!\n",
      "orb_orb loaded!\n",
      "orb_sift loaded!\n",
      "shi_brief loaded!\n",
      "shi_brisk loaded!\n",
      "shi_freak loaded!\n",
      "shi_orb loaded!\n",
      "shi_sift loaded!\n",
      "sift_brief loaded!\n",
      "sift_brisk loaded!\n",
      "sift_freak loaded!\n",
      "sift_orb loaded!\n",
      "sift_sift loaded!\n"
     ]
    }
   ],
   "source": [
    "data = []\n",
    "\n",
    "for file in files[1:]:\n",
    "    summary = load_summary(file)\n",
    "    data.append(summary)\n",
    "    print(file + ' loaded!')\n"
   ]
  },
  {
   "cell_type": "code",
   "execution_count": 8,
   "metadata": {},
   "outputs": [],
   "source": [
    "columns = ['keypoints', 'time_to_detect', 'time_to_decribe', 'matches', 'time_to_match', 'detector', 'descriptor']\n",
    "df = pd.DataFrame(data=data, columns=columns)"
   ]
  },
  {
   "cell_type": "code",
   "execution_count": 9,
   "metadata": {},
   "outputs": [
    {
     "data": {
      "text/html": [
       "<div>\n",
       "<style scoped>\n",
       "    .dataframe tbody tr th:only-of-type {\n",
       "        vertical-align: middle;\n",
       "    }\n",
       "\n",
       "    .dataframe tbody tr th {\n",
       "        vertical-align: top;\n",
       "    }\n",
       "\n",
       "    .dataframe thead th {\n",
       "        text-align: right;\n",
       "    }\n",
       "</style>\n",
       "<table border=\"1\" class=\"dataframe\">\n",
       "  <thead>\n",
       "    <tr style=\"text-align: right;\">\n",
       "      <th></th>\n",
       "      <th>keypoints</th>\n",
       "      <th>time_to_detect</th>\n",
       "    </tr>\n",
       "    <tr>\n",
       "      <th>detector</th>\n",
       "      <th></th>\n",
       "      <th></th>\n",
       "    </tr>\n",
       "  </thead>\n",
       "  <tbody>\n",
       "    <tr>\n",
       "      <td>akaze</td>\n",
       "      <td>51.333333</td>\n",
       "      <td>3.973461</td>\n",
       "    </tr>\n",
       "    <tr>\n",
       "      <td>brisk</td>\n",
       "      <td>6.888889</td>\n",
       "      <td>8.881350</td>\n",
       "    </tr>\n",
       "    <tr>\n",
       "      <td>fast</td>\n",
       "      <td>102.444444</td>\n",
       "      <td>0.225727</td>\n",
       "    </tr>\n",
       "    <tr>\n",
       "      <td>harris</td>\n",
       "      <td>39.333333</td>\n",
       "      <td>2.681348</td>\n",
       "    </tr>\n",
       "    <tr>\n",
       "      <td>orb</td>\n",
       "      <td>51.333333</td>\n",
       "      <td>4.030308</td>\n",
       "    </tr>\n",
       "    <tr>\n",
       "      <td>shi</td>\n",
       "      <td>130.888889</td>\n",
       "      <td>2.102012</td>\n",
       "    </tr>\n",
       "    <tr>\n",
       "      <td>sift</td>\n",
       "      <td>51.333333</td>\n",
       "      <td>2.458447</td>\n",
       "    </tr>\n",
       "  </tbody>\n",
       "</table>\n",
       "</div>"
      ],
      "text/plain": [
       "           keypoints  time_to_detect\n",
       "detector                            \n",
       "akaze      51.333333        3.973461\n",
       "brisk       6.888889        8.881350\n",
       "fast      102.444444        0.225727\n",
       "harris     39.333333        2.681348\n",
       "orb        51.333333        4.030308\n",
       "shi       130.888889        2.102012\n",
       "sift       51.333333        2.458447"
      ]
     },
     "execution_count": 9,
     "metadata": {},
     "output_type": "execute_result"
    }
   ],
   "source": [
    "df.groupby('detector').agg({'keypoints':'mean',\n",
    "                            'time_to_detect':'mean'})"
   ]
  },
  {
   "cell_type": "code",
   "execution_count": 10,
   "metadata": {},
   "outputs": [
    {
     "data": {
      "text/html": [
       "<div>\n",
       "<style scoped>\n",
       "    .dataframe tbody tr th:only-of-type {\n",
       "        vertical-align: middle;\n",
       "    }\n",
       "\n",
       "    .dataframe tbody tr th {\n",
       "        vertical-align: top;\n",
       "    }\n",
       "\n",
       "    .dataframe thead th {\n",
       "        text-align: right;\n",
       "    }\n",
       "</style>\n",
       "<table border=\"1\" class=\"dataframe\">\n",
       "  <thead>\n",
       "    <tr style=\"text-align: right;\">\n",
       "      <th></th>\n",
       "      <th>matches</th>\n",
       "      <th>time_to_match</th>\n",
       "    </tr>\n",
       "    <tr>\n",
       "      <th>descriptor</th>\n",
       "      <th></th>\n",
       "      <th></th>\n",
       "    </tr>\n",
       "  </thead>\n",
       "  <tbody>\n",
       "    <tr>\n",
       "      <td>brief</td>\n",
       "      <td>24.047619</td>\n",
       "      <td>0.124638</td>\n",
       "    </tr>\n",
       "    <tr>\n",
       "      <td>brisk</td>\n",
       "      <td>46.603175</td>\n",
       "      <td>0.213655</td>\n",
       "    </tr>\n",
       "    <tr>\n",
       "      <td>freak</td>\n",
       "      <td>18.317460</td>\n",
       "      <td>0.128582</td>\n",
       "    </tr>\n",
       "    <tr>\n",
       "      <td>orb</td>\n",
       "      <td>18.777778</td>\n",
       "      <td>0.138835</td>\n",
       "    </tr>\n",
       "    <tr>\n",
       "      <td>sift</td>\n",
       "      <td>61.920635</td>\n",
       "      <td>0.207571</td>\n",
       "    </tr>\n",
       "  </tbody>\n",
       "</table>\n",
       "</div>"
      ],
      "text/plain": [
       "              matches  time_to_match\n",
       "descriptor                          \n",
       "brief       24.047619       0.124638\n",
       "brisk       46.603175       0.213655\n",
       "freak       18.317460       0.128582\n",
       "orb         18.777778       0.138835\n",
       "sift        61.920635       0.207571"
      ]
     },
     "execution_count": 10,
     "metadata": {},
     "output_type": "execute_result"
    }
   ],
   "source": [
    "df.groupby('descriptor').agg({'matches':'mean',\n",
    "                              'time_to_match':'mean'})"
   ]
  },
  {
   "cell_type": "code",
   "execution_count": 11,
   "metadata": {
    "scrolled": true
   },
   "outputs": [],
   "source": [
    "df.to_csv('summary.csv')"
   ]
  },
  {
   "cell_type": "code",
   "execution_count": null,
   "metadata": {},
   "outputs": [],
   "source": []
  }
 ],
 "metadata": {
  "kernelspec": {
   "display_name": "Python 3",
   "language": "python",
   "name": "python3"
  },
  "language_info": {
   "codemirror_mode": {
    "name": "ipython",
    "version": 3
   },
   "file_extension": ".py",
   "mimetype": "text/x-python",
   "name": "python",
   "nbconvert_exporter": "python",
   "pygments_lexer": "ipython3",
   "version": "3.7.4"
  }
 },
 "nbformat": 4,
 "nbformat_minor": 4
}
